{
 "cells": [
  {
   "cell_type": "code",
   "execution_count": 1,
   "id": "d25542f5",
   "metadata": {},
   "outputs": [],
   "source": [
    "import pandas as pd\n",
    "import numpy as np"
   ]
  },
  {
   "cell_type": "code",
   "execution_count": 2,
   "id": "7f51874d",
   "metadata": {},
   "outputs": [],
   "source": [
    "sozluk1={\"Isim\":[\"Ahmet\",\"Mehmet\",\"Zeynep\",\"Atil\"],\n",
    "        \"Spor\":[\"Kosu\",\"Yuzme\",\"Kosu\",\"Basketball\"],\n",
    "         \"Kalori\":[100,200,350,150]\n",
    "        }\n",
    "sozluk2={\"Isim\":[\"Osman\",\"Levent\",\"Atlas\",\"Fatma\"],\n",
    "        \"Spor\":[\"Kosu\",\"Yuzme\",\"Kosu\",\"Tenis\"],\n",
    "         \"Kalori\":[200,300,350,150]\n",
    "        }\n",
    "sozluk3={\"Isim\":[\"Ayberg\",\"Mahmut\",\"Duygu\",\"Nur\"],\n",
    "        \"Spor\":[\"Kosu\",\"Yuzme\",\"Kosu\",\"Basketball\"],\n",
    "         \"Kalori\":[700,500,350,150]\n",
    "        }"
   ]
  },
  {
   "cell_type": "code",
   "execution_count": 4,
   "id": "3b79ea93",
   "metadata": {},
   "outputs": [],
   "source": [
    "dataFrame1=pd.DataFrame(sozluk1,index=[0,1,2,3])\n",
    "dataFrame2=pd.DataFrame(sozluk2,index=[4,5,6,7])\n",
    "dataFrame3=pd.DataFrame(sozluk3,index=[8,9,10,11])"
   ]
  },
  {
   "cell_type": "markdown",
   "id": "57f9e7de",
   "metadata": {},
   "source": [
    "## concatenation"
   ]
  },
  {
   "cell_type": "code",
   "execution_count": 6,
   "id": "64f0c27b",
   "metadata": {},
   "outputs": [
    {
     "data": {
      "text/html": [
       "<div>\n",
       "<style scoped>\n",
       "    .dataframe tbody tr th:only-of-type {\n",
       "        vertical-align: middle;\n",
       "    }\n",
       "\n",
       "    .dataframe tbody tr th {\n",
       "        vertical-align: top;\n",
       "    }\n",
       "\n",
       "    .dataframe thead th {\n",
       "        text-align: right;\n",
       "    }\n",
       "</style>\n",
       "<table border=\"1\" class=\"dataframe\">\n",
       "  <thead>\n",
       "    <tr style=\"text-align: right;\">\n",
       "      <th></th>\n",
       "      <th>Isim</th>\n",
       "      <th>Spor</th>\n",
       "      <th>Kalori</th>\n",
       "    </tr>\n",
       "  </thead>\n",
       "  <tbody>\n",
       "    <tr>\n",
       "      <th>0</th>\n",
       "      <td>Ahmet</td>\n",
       "      <td>Kosu</td>\n",
       "      <td>100</td>\n",
       "    </tr>\n",
       "    <tr>\n",
       "      <th>1</th>\n",
       "      <td>Mehmet</td>\n",
       "      <td>Yuzme</td>\n",
       "      <td>200</td>\n",
       "    </tr>\n",
       "    <tr>\n",
       "      <th>2</th>\n",
       "      <td>Zeynep</td>\n",
       "      <td>Kosu</td>\n",
       "      <td>350</td>\n",
       "    </tr>\n",
       "    <tr>\n",
       "      <th>3</th>\n",
       "      <td>Atil</td>\n",
       "      <td>Basketball</td>\n",
       "      <td>150</td>\n",
       "    </tr>\n",
       "    <tr>\n",
       "      <th>4</th>\n",
       "      <td>Osman</td>\n",
       "      <td>Kosu</td>\n",
       "      <td>200</td>\n",
       "    </tr>\n",
       "    <tr>\n",
       "      <th>5</th>\n",
       "      <td>Levent</td>\n",
       "      <td>Yuzme</td>\n",
       "      <td>300</td>\n",
       "    </tr>\n",
       "    <tr>\n",
       "      <th>6</th>\n",
       "      <td>Atlas</td>\n",
       "      <td>Kosu</td>\n",
       "      <td>350</td>\n",
       "    </tr>\n",
       "    <tr>\n",
       "      <th>7</th>\n",
       "      <td>Fatma</td>\n",
       "      <td>Tenis</td>\n",
       "      <td>150</td>\n",
       "    </tr>\n",
       "    <tr>\n",
       "      <th>8</th>\n",
       "      <td>Ayberg</td>\n",
       "      <td>Kosu</td>\n",
       "      <td>700</td>\n",
       "    </tr>\n",
       "    <tr>\n",
       "      <th>9</th>\n",
       "      <td>Mahmut</td>\n",
       "      <td>Yuzme</td>\n",
       "      <td>500</td>\n",
       "    </tr>\n",
       "    <tr>\n",
       "      <th>10</th>\n",
       "      <td>Duygu</td>\n",
       "      <td>Kosu</td>\n",
       "      <td>350</td>\n",
       "    </tr>\n",
       "    <tr>\n",
       "      <th>11</th>\n",
       "      <td>Nur</td>\n",
       "      <td>Basketball</td>\n",
       "      <td>150</td>\n",
       "    </tr>\n",
       "  </tbody>\n",
       "</table>\n",
       "</div>"
      ],
      "text/plain": [
       "      Isim        Spor  Kalori\n",
       "0    Ahmet        Kosu     100\n",
       "1   Mehmet       Yuzme     200\n",
       "2   Zeynep        Kosu     350\n",
       "3     Atil  Basketball     150\n",
       "4    Osman        Kosu     200\n",
       "5   Levent       Yuzme     300\n",
       "6    Atlas        Kosu     350\n",
       "7    Fatma       Tenis     150\n",
       "8   Ayberg        Kosu     700\n",
       "9   Mahmut       Yuzme     500\n",
       "10   Duygu        Kosu     350\n",
       "11     Nur  Basketball     150"
      ]
     },
     "execution_count": 6,
     "metadata": {},
     "output_type": "execute_result"
    }
   ],
   "source": [
    "pd.concat([dataFrame1,dataFrame2,dataFrame3]) #axis=0"
   ]
  },
  {
   "cell_type": "markdown",
   "id": "d44b07c0",
   "metadata": {},
   "source": [
    "## merge"
   ]
  },
  {
   "cell_type": "code",
   "execution_count": 9,
   "id": "83b8be24",
   "metadata": {},
   "outputs": [],
   "source": [
    "mergeSpor={\"Isim\":[\"Ahmet\",\"Mehmet\",\"Zeynep\",\"Atil\"],\n",
    "        \"Spor\":[\"Kosu\",\"Yuzme\",\"Kosu\",\"Basketball\"]}\n",
    "mergeKalori={\"Isim\":[\"Ahmet\",\"Mehmet\",\"Zeynep\",\"Atil\"],\n",
    "         \"Kalori\":[200,300,350,150]}"
   ]
  },
  {
   "cell_type": "raw",
   "id": "e33cfe07",
   "metadata": {},
   "source": []
  },
  {
   "cell_type": "code",
   "execution_count": 10,
   "id": "e743f211",
   "metadata": {},
   "outputs": [],
   "source": [
    "mergeDataFrame1=pd.DataFrame(mergeSpor)\n",
    "mergeDataFrame2=pd.DataFrame(mergeKalori)"
   ]
  },
  {
   "cell_type": "code",
   "execution_count": 11,
   "id": "a56fc5ab",
   "metadata": {},
   "outputs": [
    {
     "data": {
      "text/html": [
       "<div>\n",
       "<style scoped>\n",
       "    .dataframe tbody tr th:only-of-type {\n",
       "        vertical-align: middle;\n",
       "    }\n",
       "\n",
       "    .dataframe tbody tr th {\n",
       "        vertical-align: top;\n",
       "    }\n",
       "\n",
       "    .dataframe thead th {\n",
       "        text-align: right;\n",
       "    }\n",
       "</style>\n",
       "<table border=\"1\" class=\"dataframe\">\n",
       "  <thead>\n",
       "    <tr style=\"text-align: right;\">\n",
       "      <th></th>\n",
       "      <th>Isim</th>\n",
       "      <th>Spor</th>\n",
       "      <th>Kalori</th>\n",
       "    </tr>\n",
       "  </thead>\n",
       "  <tbody>\n",
       "    <tr>\n",
       "      <th>0</th>\n",
       "      <td>Ahmet</td>\n",
       "      <td>Kosu</td>\n",
       "      <td>200</td>\n",
       "    </tr>\n",
       "    <tr>\n",
       "      <th>1</th>\n",
       "      <td>Mehmet</td>\n",
       "      <td>Yuzme</td>\n",
       "      <td>300</td>\n",
       "    </tr>\n",
       "    <tr>\n",
       "      <th>2</th>\n",
       "      <td>Zeynep</td>\n",
       "      <td>Kosu</td>\n",
       "      <td>350</td>\n",
       "    </tr>\n",
       "    <tr>\n",
       "      <th>3</th>\n",
       "      <td>Atil</td>\n",
       "      <td>Basketball</td>\n",
       "      <td>150</td>\n",
       "    </tr>\n",
       "  </tbody>\n",
       "</table>\n",
       "</div>"
      ],
      "text/plain": [
       "     Isim        Spor  Kalori\n",
       "0   Ahmet        Kosu     200\n",
       "1  Mehmet       Yuzme     300\n",
       "2  Zeynep        Kosu     350\n",
       "3    Atil  Basketball     150"
      ]
     },
     "execution_count": 11,
     "metadata": {},
     "output_type": "execute_result"
    }
   ],
   "source": [
    "pd.merge(mergeDataFrame1,mergeDataFrame2,on=\"Isim\")"
   ]
  },
  {
   "cell_type": "code",
   "execution_count": null,
   "id": "714dd9d9",
   "metadata": {},
   "outputs": [],
   "source": []
  }
 ],
 "metadata": {
  "kernelspec": {
   "display_name": "Python 3 (ipykernel)",
   "language": "python",
   "name": "python3"
  },
  "language_info": {
   "codemirror_mode": {
    "name": "ipython",
    "version": 3
   },
   "file_extension": ".py",
   "mimetype": "text/x-python",
   "name": "python",
   "nbconvert_exporter": "python",
   "pygments_lexer": "ipython3",
   "version": "3.9.7"
  }
 },
 "nbformat": 4,
 "nbformat_minor": 5
}
