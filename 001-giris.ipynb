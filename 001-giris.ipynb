{
 "cells": [
  {
   "cell_type": "code",
   "execution_count": 1,
   "id": "4bd43b00",
   "metadata": {},
   "outputs": [],
   "source": [
    "import numpy as np\n",
    "import pandas as pd"
   ]
  },
  {
   "cell_type": "markdown",
   "id": "257322a7",
   "metadata": {},
   "source": [
    "## series"
   ]
  },
  {
   "cell_type": "code",
   "execution_count": 2,
   "id": "6ce50286",
   "metadata": {},
   "outputs": [],
   "source": [
    "benşmSozlugum = {\"Ayberg\" :40 ,\"Zeynep\" : 15,\"Sevim\" : 20}"
   ]
  },
  {
   "cell_type": "code",
   "execution_count": 3,
   "id": "0a691c42",
   "metadata": {},
   "outputs": [
    {
     "data": {
      "text/plain": [
       "Ayberg    40\n",
       "Zeynep    15\n",
       "Sevim     20\n",
       "dtype: int64"
      ]
     },
     "execution_count": 3,
     "metadata": {},
     "output_type": "execute_result"
    }
   ],
   "source": [
    "pd.Series(benşmSozlugum)"
   ]
  },
  {
   "cell_type": "code",
   "execution_count": 4,
   "id": "2b96d11b",
   "metadata": {},
   "outputs": [],
   "source": [
    "benimListem=[40,15,20]\n",
    "benimIsimlerim=[\"Ayberg\",\"Zeynep\",\"Sevim\"]"
   ]
  },
  {
   "cell_type": "code",
   "execution_count": 5,
   "id": "bd56d5d9",
   "metadata": {},
   "outputs": [
    {
     "data": {
      "text/plain": [
       "0    40\n",
       "1    15\n",
       "2    20\n",
       "dtype: int64"
      ]
     },
     "execution_count": 5,
     "metadata": {},
     "output_type": "execute_result"
    }
   ],
   "source": [
    "pd.Series(benimListem)"
   ]
  },
  {
   "cell_type": "code",
   "execution_count": 6,
   "id": "1640c2b2",
   "metadata": {},
   "outputs": [
    {
     "data": {
      "text/plain": [
       "Ayberg    40\n",
       "Zeynep    15\n",
       "Sevim     20\n",
       "dtype: int64"
      ]
     },
     "execution_count": 6,
     "metadata": {},
     "output_type": "execute_result"
    }
   ],
   "source": [
    "pd.Series(data=benimListem,index=benimIsimlerim)"
   ]
  },
  {
   "cell_type": "code",
   "execution_count": 7,
   "id": "00dfb59a",
   "metadata": {},
   "outputs": [],
   "source": [
    "numpyDizisi=np.array([40,15,20])"
   ]
  },
  {
   "cell_type": "code",
   "execution_count": 8,
   "id": "d99adf13",
   "metadata": {},
   "outputs": [
    {
     "data": {
      "text/plain": [
       "Ayberg    40\n",
       "Zeynep    15\n",
       "Sevim     20\n",
       "dtype: int64"
      ]
     },
     "execution_count": 8,
     "metadata": {},
     "output_type": "execute_result"
    }
   ],
   "source": [
    "pd.Series(data=numpyDizisi,index=benimIsimlerim)"
   ]
  },
  {
   "cell_type": "code",
   "execution_count": 9,
   "id": "1c708793",
   "metadata": {},
   "outputs": [
    {
     "data": {
      "text/plain": [
       "11      ali\n",
       "12    atlas\n",
       "13    Osman\n",
       "dtype: object"
      ]
     },
     "execution_count": 9,
     "metadata": {},
     "output_type": "execute_result"
    }
   ],
   "source": [
    "pd.Series([\"ali\",\"atlas\",\"Osman\"],[11,12,13])"
   ]
  },
  {
   "cell_type": "code",
   "execution_count": 10,
   "id": "1ad657b1",
   "metadata": {},
   "outputs": [],
   "source": [
    "yarismaSonucu1=pd.Series([10,3,5],[\"atil\",\"atlas\",\"osman\"])"
   ]
  },
  {
   "cell_type": "code",
   "execution_count": 11,
   "id": "fa3ebc76",
   "metadata": {},
   "outputs": [
    {
     "data": {
      "text/plain": [
       "atil     10\n",
       "atlas     3\n",
       "osman     5\n",
       "dtype: int64"
      ]
     },
     "execution_count": 11,
     "metadata": {},
     "output_type": "execute_result"
    }
   ],
   "source": [
    "yarismaSonucu1"
   ]
  },
  {
   "cell_type": "code",
   "execution_count": 12,
   "id": "2c2a725c",
   "metadata": {},
   "outputs": [],
   "source": [
    "yarismaSonucu2=pd.Series([7,6,4],[\"atil\",\"atlas\",\"osman\"])"
   ]
  },
  {
   "cell_type": "code",
   "execution_count": 13,
   "id": "1f322198",
   "metadata": {},
   "outputs": [
    {
     "data": {
      "text/plain": [
       "atil     7\n",
       "atlas    6\n",
       "osman    4\n",
       "dtype: int64"
      ]
     },
     "execution_count": 13,
     "metadata": {},
     "output_type": "execute_result"
    }
   ],
   "source": [
    "yarismaSonucu2"
   ]
  },
  {
   "cell_type": "code",
   "execution_count": 14,
   "id": "610399f5",
   "metadata": {},
   "outputs": [
    {
     "data": {
      "text/plain": [
       "7"
      ]
     },
     "execution_count": 14,
     "metadata": {},
     "output_type": "execute_result"
    }
   ],
   "source": [
    "yarismaSonucu2[\"atil\"]"
   ]
  },
  {
   "cell_type": "code",
   "execution_count": 15,
   "id": "de205b61",
   "metadata": {},
   "outputs": [],
   "source": [
    "sonSonuc=yarismaSonucu1+yarismaSonucu2"
   ]
  },
  {
   "cell_type": "code",
   "execution_count": 16,
   "id": "96146bd4",
   "metadata": {},
   "outputs": [
    {
     "data": {
      "text/plain": [
       "atil     17\n",
       "atlas     9\n",
       "osman     9\n",
       "dtype: int64"
      ]
     },
     "execution_count": 16,
     "metadata": {},
     "output_type": "execute_result"
    }
   ],
   "source": [
    "sonSonuc"
   ]
  },
  {
   "cell_type": "code",
   "execution_count": 17,
   "id": "4a441d59",
   "metadata": {},
   "outputs": [
    {
     "data": {
      "text/plain": [
       "17"
      ]
     },
     "execution_count": 17,
     "metadata": {},
     "output_type": "execute_result"
    }
   ],
   "source": [
    "sonSonuc[\"atil\"]"
   ]
  },
  {
   "cell_type": "code",
   "execution_count": null,
   "id": "f7d91d45",
   "metadata": {},
   "outputs": [],
   "source": []
  }
 ],
 "metadata": {
  "kernelspec": {
   "display_name": "Python 3 (ipykernel)",
   "language": "python",
   "name": "python3"
  },
  "language_info": {
   "codemirror_mode": {
    "name": "ipython",
    "version": 3
   },
   "file_extension": ".py",
   "mimetype": "text/x-python",
   "name": "python",
   "nbconvert_exporter": "python",
   "pygments_lexer": "ipython3",
   "version": "3.9.7"
  }
 },
 "nbformat": 4,
 "nbformat_minor": 5
}
