{
 "cells": [
  {
   "cell_type": "code",
   "execution_count": 1,
   "id": "f0049687",
   "metadata": {},
   "outputs": [],
   "source": [
    "import pandas as pd"
   ]
  },
  {
   "cell_type": "code",
   "execution_count": 2,
   "id": "9ace228e",
   "metadata": {},
   "outputs": [],
   "source": [
    "##  dataFrame=pd.read_excel(maas.xlsx)\n",
    "#   doluDataFrame=dataFrame.dropna()\n",
    "#   doluDataFrame.to_excel(yeniMaas.xlsx)\n"
   ]
  },
  {
   "cell_type": "code",
   "execution_count": null,
   "id": "90453cdc",
   "metadata": {},
   "outputs": [],
   "source": [
    "## read_csv\n",
    "##  to_csv.       yeniMaas.csv"
   ]
  }
 ],
 "metadata": {
  "kernelspec": {
   "display_name": "Python 3 (ipykernel)",
   "language": "python",
   "name": "python3"
  },
  "language_info": {
   "codemirror_mode": {
    "name": "ipython",
    "version": 3
   },
   "file_extension": ".py",
   "mimetype": "text/x-python",
   "name": "python",
   "nbconvert_exporter": "python",
   "pygments_lexer": "ipython3",
   "version": "3.9.7"
  }
 },
 "nbformat": 4,
 "nbformat_minor": 5
}
